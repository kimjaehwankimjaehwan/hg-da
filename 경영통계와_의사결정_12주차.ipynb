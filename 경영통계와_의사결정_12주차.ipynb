{
  "nbformat": 4,
  "nbformat_minor": 0,
  "metadata": {
    "colab": {
      "private_outputs": true,
      "provenance": [],
      "authorship_tag": "ABX9TyMar0xrkBJigWayxQWZ7Zsg",
      "include_colab_link": true
    },
    "kernelspec": {
      "name": "python3",
      "display_name": "Python 3"
    },
    "language_info": {
      "name": "python"
    }
  },
  "cells": [
    {
      "cell_type": "markdown",
      "metadata": {
        "id": "view-in-github",
        "colab_type": "text"
      },
      "source": [
        "<a href=\"https://colab.research.google.com/github/kimjaehwankimjaehwan/hg-da/blob/main/%EA%B2%BD%EC%98%81%ED%86%B5%EA%B3%84%EC%99%80_%EC%9D%98%EC%82%AC%EA%B2%B0%EC%A0%95_12%EC%A3%BC%EC%B0%A8.ipynb\" target=\"_parent\"><img src=\"https://colab.research.google.com/assets/colab-badge.svg\" alt=\"Open In Colab\"/></a>"
      ]
    },
    {
      "cell_type": "code",
      "execution_count": null,
      "metadata": {
        "id": "iYH0MTrVLYNX"
      },
      "outputs": [],
      "source": []
    },
    {
      "cell_type": "markdown",
      "source": [
        "# 제공된 텍스트 조각들은 비율 \\( p \\)에 대한 가설 검정에 관련된 것입니다. 주어진 정보를 자세히 설명하겠습니다.\n",
        "\n",
        "## 1. p에 대한 검정통계량: $p = \\frac{x}{n}$\n",
        "- 이는 비율 $p$의 검정 통계량이 $\\frac{x}{n}$로 계산된다는 것을 의미합니다. 여기서:\n",
        "  - $x$는 샘플에서의 성공 횟수입니다.\n",
        "  - $n$은 총 시도 횟수 또는 샘플 크기입니다.\n",
        "  - 이 공식은 샘플 비율을 나타냅니다.\n",
        "\n",
        "## 2. $p \\sim M \\left( p, \\frac{p(1-p)}{n} \\right)$\n",
        "- 이 표기는 샘플 비율 $p$가 특정 조건 하에서 대략 정규 분포를 따른다는 것을 나타냅니다.\n",
        "- $p \\sim M \\left( p, \\frac{p(1-p)}{n} \\right)$는 다음과 같이 해석될 수 있습니다:\n",
        "  - $p$는 평균 $p$와 분산 $\\left( \\frac{p(1-p)}{n} \\right)$를 갖는 정규 분포를 따릅니다.\n",
        "  - 이는 중심 극한 정리에 기반하며, 충분히 큰 샘플 크기에 대해 샘플 비율의 분포는 정규 분포에 근사합니다.\n",
        "- 구체적으로:\n",
        "  - 평균 $p$: 샘플 비율의 기대값은 실제 비율 $p$입니다.\n",
        "  - 분산 $\\left( \\frac{p(1-p)}{n} \\right)$: 샘플 비율의 분산은 $\\left( \\frac{p(1-p)}{n} \\right)$입니다. 이는 이항 분포의 성질에서 도출됩니다.\n",
        "\n",
        "### 설명\n",
        "비율에 대한 가설 검정에서, 우리는 종종 샘플 비율 $\\hat{p} = \\frac{x}{n}$을 다룹니다. 샘플 크기 $n$이 충분히 크면, 샘플 비율 $\\hat{p}$의 샘플링 분포는 다음과 같이 근사적인 정규 분포를 따릅니다:\n",
        "\n",
        "- 평균 $\\mu_{\\hat{p}} = p$\n",
        "- 분산 $\\sigma^2_{\\hat{p}} = \\frac{p(1-p)}{n}$\n",
        "\n",
        "이 정규 근사를 사용하여 비율 $p$에 대한 가설 검정이나 신뢰 구간을 구성할 수 있습니다.\n",
        "\n",
        "### 예제\n",
        "예를 들어, 공장에서 불량품 비율이 0.1인지 테스트하려고 합니다. 100개의 샘플을 취했을 때 12개의 불량품이 나왔다고 합시다.\n",
        "\n",
        "1. 샘플 비율 $\\hat{p} = \\frac{12}{100} = 0.12$\n",
        "2. 귀무 가설 $H_0: p = 0.1$ 하에서:\n",
        "   - 평균은 $p = 0.1$\n",
        "   - 분산은 $\\frac{0.1 \\times 0.9}{100} = 0.0009$\n",
        "\n",
        "이 정규 근사를 사용하여 표준화하고 검정 통계량을 찾아서 표준 정규 분포와 비교하여 p-값을 결정하거나 가설에 대한 결정을 내릴 수 있습니다.\n"
      ],
      "metadata": {
        "id": "Qpy4lvDoWEtK"
      }
    },
    {
      "cell_type": "code",
      "source": [],
      "metadata": {
        "id": "rfLTf-liU9Vh"
      },
      "execution_count": null,
      "outputs": []
    }
  ]
}